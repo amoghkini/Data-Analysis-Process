{
 "cells": [
  {
   "cell_type": "markdown",
   "metadata": {},
   "source": [
    "#### Assessing data - Understand the dataset\n",
    "\n",
    "types of Unclean data\n",
    "1. Dirty Data(Data with quality issues)\n",
    "2. Messy data(Data with tidiness issues)"
   ]
  },
  {
   "cell_type": "markdown",
   "metadata": {},
   "source": [
    "## 1. Dirty data\n",
    "1. Duplicated entries\n",
    "2. Missing data\n",
    "3. Currupt data\n",
    "4. Inaccurate Data"
   ]
  },
  {
   "cell_type": "markdown",
   "metadata": {},
   "source": [
    "## 2. Messy data\n",
    "when the data is not in structued manner"
   ]
  },
  {
   "cell_type": "markdown",
   "metadata": {},
   "source": [
    "Types of assessment find unclean data\n",
    "1. Manual\n",
    "2. Programmatic"
   ]
  },
  {
   "cell_type": "markdown",
   "metadata": {},
   "source": [
    "## Steps in assessment\n",
    "There are2 steps involved in assessment.\n",
    "\n",
    "1. Discover\n",
    "2. Document"
   ]
  },
  {
   "cell_type": "code",
   "execution_count": null,
   "metadata": {},
   "outputs": [],
   "source": []
  }
 ],
 "metadata": {
  "kernelspec": {
   "display_name": "Python 3",
   "language": "python",
   "name": "python3"
  },
  "language_info": {
   "codemirror_mode": {
    "name": "ipython",
    "version": 3
   },
   "file_extension": ".py",
   "mimetype": "text/x-python",
   "name": "python",
   "nbconvert_exporter": "python",
   "pygments_lexer": "ipython3",
   "version": "3.6.8"
  }
 },
 "nbformat": 4,
 "nbformat_minor": 2
}

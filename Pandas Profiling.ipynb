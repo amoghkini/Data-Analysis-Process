{
 "cells": [
  {
   "cell_type": "code",
   "execution_count": 1,
   "metadata": {},
   "outputs": [
    {
     "name": "stdout",
     "output_type": "stream",
     "text": [
      "Defaulting to user installation because normal site-packages is not writeable\n",
      "Collecting pandas-profiling\n",
      "  Downloading pandas_profiling-3.1.0-py2.py3-none-any.whl (261 kB)\n",
      "Collecting phik>=0.11.1\n",
      "  Downloading phik-0.12.0-cp36-cp36m-win_amd64.whl (660 kB)\n",
      "Collecting visions[type_image_path]==0.7.4\n",
      "  Downloading visions-0.7.4-py3-none-any.whl (102 kB)\n",
      "Collecting requests>=2.24.0\n",
      "  Downloading requests-2.27.1-py2.py3-none-any.whl (63 kB)\n",
      "Collecting tqdm>=4.48.2\n",
      "  Downloading tqdm-4.64.0-py2.py3-none-any.whl (78 kB)\n",
      "Collecting htmlmin>=0.1.12\n",
      "  Downloading htmlmin-0.1.12.tar.gz (19 kB)\n",
      "  Preparing metadata (setup.py): started\n",
      "  Preparing metadata (setup.py): finished with status 'done'\n",
      "Collecting missingno>=0.4.2\n",
      "  Downloading missingno-0.5.1-py3-none-any.whl (8.7 kB)\n",
      "Requirement already satisfied: seaborn>=0.10.1 in c:\\program files\\python36\\lib\\site-packages (from pandas-profiling) (0.11.0)\n",
      "Collecting scipy>=1.4.1\n",
      "  Downloading scipy-1.5.4-cp36-cp36m-win_amd64.whl (31.2 MB)\n",
      "Collecting pydantic>=1.8.1\n",
      "  Downloading pydantic-1.9.0-cp36-cp36m-win_amd64.whl (2.0 MB)\n",
      "Requirement already satisfied: PyYAML>=5.0.0 in c:\\program files\\python36\\lib\\site-packages (from pandas-profiling) (5.1.1)\n",
      "Collecting markupsafe~=2.0.1\n",
      "  Downloading MarkupSafe-2.0.1-cp36-cp36m-win_amd64.whl (14 kB)\n",
      "Requirement already satisfied: matplotlib>=3.2.0 in c:\\users\\amogh\\appdata\\roaming\\python\\python36\\site-packages (from pandas-profiling) (3.3.4)\n",
      "Collecting jinja2>=2.11.1\n",
      "  Downloading Jinja2-3.0.3-py3-none-any.whl (133 kB)\n",
      "Requirement already satisfied: numpy>=1.16.0 in c:\\program files\\python36\\lib\\site-packages (from pandas-profiling) (1.16.2)\n",
      "Collecting tangled-up-in-unicode==0.1.0\n",
      "  Downloading tangled_up_in_unicode-0.1.0-py3-none-any.whl (3.1 MB)\n",
      "Requirement already satisfied: joblib~=1.0.1 in c:\\program files\\python36\\lib\\site-packages (from pandas-profiling) (1.0.1)\n",
      "Requirement already satisfied: pandas!=1.0.0,!=1.0.1,!=1.0.2,!=1.1.0,>=0.25.3 in c:\\program files\\python36\\lib\\site-packages (from pandas-profiling) (1.1.5)\n",
      "Collecting multimethod>=1.4\n",
      "  Downloading multimethod-1.5-py3-none-any.whl (7.7 kB)\n",
      "Collecting networkx>=2.4\n",
      "  Downloading networkx-2.5.1-py3-none-any.whl (1.6 MB)\n",
      "Requirement already satisfied: attrs>=19.3.0 in c:\\program files\\python36\\lib\\site-packages (from visions[type_image_path]==0.7.4->pandas-profiling) (21.2.0)\n",
      "Requirement already satisfied: Pillow in c:\\program files\\python36\\lib\\site-packages (from visions[type_image_path]==0.7.4->pandas-profiling) (8.3.1)\n",
      "Collecting imagehash\n",
      "  Downloading ImageHash-4.2.1.tar.gz (812 kB)\n",
      "  Preparing metadata (setup.py): started\n",
      "  Preparing metadata (setup.py): finished with status 'done'\n",
      "Requirement already satisfied: cycler>=0.10 in c:\\program files\\python36\\lib\\site-packages (from matplotlib>=3.2.0->pandas-profiling) (0.10.0)\n",
      "Requirement already satisfied: pyparsing!=2.0.4,!=2.1.2,!=2.1.6,>=2.0.3 in c:\\program files\\python36\\lib\\site-packages (from matplotlib>=3.2.0->pandas-profiling) (2.4.0)\n",
      "Requirement already satisfied: python-dateutil>=2.1 in c:\\program files\\python36\\lib\\site-packages (from matplotlib>=3.2.0->pandas-profiling) (2.8.1)\n",
      "Requirement already satisfied: kiwisolver>=1.0.1 in c:\\program files\\python36\\lib\\site-packages (from matplotlib>=3.2.0->pandas-profiling) (1.0.1)\n",
      "Requirement already satisfied: pytz>=2017.2 in c:\\program files\\python36\\lib\\site-packages (from pandas!=1.0.0,!=1.0.1,!=1.0.2,!=1.1.0,>=0.25.3->pandas-profiling) (2018.9)\n",
      "Collecting numpy>=1.16.0\n",
      "  Downloading numpy-1.19.5-cp36-cp36m-win_amd64.whl (13.2 MB)\n",
      "Collecting dataclasses>=0.6\n",
      "  Downloading dataclasses-0.8-py3-none-any.whl (19 kB)\n",
      "Requirement already satisfied: typing-extensions>=3.7.4.3 in c:\\program files\\python36\\lib\\site-packages (from pydantic>=1.8.1->pandas-profiling) (4.1.1)\n",
      "Collecting charset-normalizer~=2.0.0\n",
      "  Downloading charset_normalizer-2.0.12-py3-none-any.whl (39 kB)\n",
      "Requirement already satisfied: certifi>=2017.4.17 in c:\\program files\\python36\\lib\\site-packages (from requests>=2.24.0->pandas-profiling) (2019.3.9)\n",
      "Requirement already satisfied: urllib3<1.27,>=1.21.1 in c:\\program files\\python36\\lib\\site-packages (from requests>=2.24.0->pandas-profiling) (1.24.1)\n",
      "Requirement already satisfied: idna<4,>=2.5 in c:\\program files\\python36\\lib\\site-packages (from requests>=2.24.0->pandas-profiling) (2.8)\n",
      "Requirement already satisfied: colorama in c:\\program files\\python36\\lib\\site-packages (from tqdm>=4.48.2->pandas-profiling) (0.4.1)\n",
      "Requirement already satisfied: importlib-resources in c:\\program files\\python36\\lib\\site-packages (from tqdm>=4.48.2->pandas-profiling) (5.4.0)\n",
      "Requirement already satisfied: six in c:\\program files\\python36\\lib\\site-packages (from cycler>=0.10->matplotlib>=3.2.0->pandas-profiling) (1.12.0)\n",
      "Requirement already satisfied: setuptools in c:\\users\\amogh\\appdata\\roaming\\python\\python36\\site-packages (from kiwisolver>=1.0.1->matplotlib>=3.2.0->pandas-profiling) (59.6.0)\n",
      "Requirement already satisfied: decorator<5,>=4.3 in c:\\program files\\python36\\lib\\site-packages (from networkx>=2.4->visions[type_image_path]==0.7.4->pandas-profiling) (4.4.0)\n",
      "Collecting PyWavelets\n",
      "  Downloading PyWavelets-1.1.1-cp36-cp36m-win_amd64.whl (4.2 MB)\n",
      "Requirement already satisfied: zipp>=3.1.0 in c:\\program files\\python36\\lib\\site-packages (from importlib-resources->tqdm>=4.48.2->pandas-profiling) (3.6.0)\n",
      "Building wheels for collected packages: htmlmin, imagehash\n",
      "  Building wheel for htmlmin (setup.py): started\n",
      "  Building wheel for htmlmin (setup.py): finished with status 'done'\n",
      "  Created wheel for htmlmin: filename=htmlmin-0.1.12-py3-none-any.whl size=27104 sha256=6514c5ef3799417b3ac46ad003af1ffb6c491f96e1d2b85d92d349a25766345e\n",
      "  Stored in directory: c:\\users\\amogh\\appdata\\local\\pip\\cache\\wheels\\c3\\fe\\0b\\4450b38bceb9ae43dd7d0f16e353566f30f5f4d59a58eca2ed\n",
      "  Building wheel for imagehash (setup.py): started\n",
      "  Building wheel for imagehash (setup.py): finished with status 'done'\n",
      "  Created wheel for imagehash: filename=ImageHash-4.2.1-py2.py3-none-any.whl size=295212 sha256=1e43f7346437f37ac6966e8b33332fcd1a775c5c6b4a991bfcc2deefe50e08dc\n",
      "  Stored in directory: c:\\users\\amogh\\appdata\\local\\pip\\cache\\wheels\\5e\\77\\4c\\7291601777365dd7db8a3b309006122d515ee5ac086f2f5866\n",
      "Successfully built htmlmin imagehash\n",
      "Installing collected packages: numpy, tangled-up-in-unicode, scipy, PyWavelets, networkx, multimethod, visions, markupsafe, imagehash, dataclasses, charset-normalizer, tqdm, requests, pydantic, phik, missingno, jinja2, htmlmin, pandas-profiling\n",
      "Successfully installed PyWavelets-1.1.1 charset-normalizer-2.0.12 dataclasses-0.8 htmlmin-0.1.12 imagehash-4.2.1 jinja2-3.0.3 markupsafe-2.0.1 missingno-0.5.1 multimethod-1.5 networkx-2.5.1 numpy-1.19.5 pandas-profiling-3.1.0 phik-0.12.0 pydantic-1.9.0 requests-2.27.1 scipy-1.5.4 tangled-up-in-unicode-0.1.0 tqdm-4.64.0 visions-0.7.4\n"
     ]
    },
    {
     "name": "stderr",
     "output_type": "stream",
     "text": [
      "ERROR: pip's dependency resolver does not currently take into account all the packages that are installed. This behaviour is the source of the following dependency conflicts.\n",
      "notify-run 0.0.13 requires requests==2.22.0, but you have requests 2.27.1 which is incompatible.\n"
     ]
    }
   ],
   "source": [
    "!pip install pandas-profiling"
   ]
  },
  {
   "cell_type": "code",
   "execution_count": 2,
   "metadata": {},
   "outputs": [],
   "source": [
    "import pandas as pd\n",
    "df = pd.read_csv('train.csv')"
   ]
  },
  {
   "cell_type": "code",
   "execution_count": 3,
   "metadata": {},
   "outputs": [
    {
     "data": {
      "application/vnd.jupyter.widget-view+json": {
       "model_id": "a4d7f458a4e8438cb494e1752ad540a8",
       "version_major": 2,
       "version_minor": 0
      },
      "text/plain": [
       "Summarize dataset:   0%|          | 0/5 [00:00<?, ?it/s]"
      ]
     },
     "metadata": {},
     "output_type": "display_data"
    },
    {
     "name": "stderr",
     "output_type": "stream",
     "text": [
      "c:\\program files\\python36\\lib\\site-packages\\pandas\\core\\strings.py:1541: FutureWarning: split() requires a non-empty pattern match.\n",
      "  f = lambda x: regex.split(x, maxsplit=n)\n",
      "c:\\program files\\python36\\lib\\site-packages\\pandas\\core\\strings.py:1541: FutureWarning: split() requires a non-empty pattern match.\n",
      "  f = lambda x: regex.split(x, maxsplit=n)\n",
      "c:\\program files\\python36\\lib\\site-packages\\pandas\\core\\strings.py:1541: FutureWarning: split() requires a non-empty pattern match.\n",
      "  f = lambda x: regex.split(x, maxsplit=n)\n",
      "c:\\program files\\python36\\lib\\site-packages\\pandas\\core\\strings.py:1541: FutureWarning: split() requires a non-empty pattern match.\n",
      "  f = lambda x: regex.split(x, maxsplit=n)\n",
      "c:\\program files\\python36\\lib\\site-packages\\pandas\\core\\strings.py:1541: FutureWarning: split() requires a non-empty pattern match.\n",
      "  f = lambda x: regex.split(x, maxsplit=n)\n",
      "c:\\program files\\python36\\lib\\site-packages\\pandas\\core\\strings.py:1541: FutureWarning: split() requires a non-empty pattern match.\n",
      "  f = lambda x: regex.split(x, maxsplit=n)\n"
     ]
    },
    {
     "data": {
      "application/vnd.jupyter.widget-view+json": {
       "model_id": "f766009efe9e4dd2a9142c517f220ddd",
       "version_major": 2,
       "version_minor": 0
      },
      "text/plain": [
       "Generate report structure:   0%|          | 0/1 [00:00<?, ?it/s]"
      ]
     },
     "metadata": {},
     "output_type": "display_data"
    },
    {
     "data": {
      "application/vnd.jupyter.widget-view+json": {
       "model_id": "f80971f1a0ec4156ba20660c2a615b76",
       "version_major": 2,
       "version_minor": 0
      },
      "text/plain": [
       "Render HTML:   0%|          | 0/1 [00:00<?, ?it/s]"
      ]
     },
     "metadata": {},
     "output_type": "display_data"
    },
    {
     "data": {
      "application/vnd.jupyter.widget-view+json": {
       "model_id": "135838d08fa0446dbdb1f8f3f0dc1203",
       "version_major": 2,
       "version_minor": 0
      },
      "text/plain": [
       "Export report to file:   0%|          | 0/1 [00:00<?, ?it/s]"
      ]
     },
     "metadata": {},
     "output_type": "display_data"
    }
   ],
   "source": [
    "from pandas_profiling import ProfileReport\n",
    "prof = ProfileReport(df)\n",
    "prof.to_file(output_file='output.html')"
   ]
  },
  {
   "cell_type": "code",
   "execution_count": null,
   "metadata": {},
   "outputs": [],
   "source": []
  }
 ],
 "metadata": {
  "kernelspec": {
   "display_name": "Python 3",
   "language": "python",
   "name": "python3"
  },
  "language_info": {
   "codemirror_mode": {
    "name": "ipython",
    "version": 3
   },
   "file_extension": ".py",
   "mimetype": "text/x-python",
   "name": "python",
   "nbconvert_exporter": "python",
   "pygments_lexer": "ipython3",
   "version": "3.6.8"
  }
 },
 "nbformat": 4,
 "nbformat_minor": 2
}
